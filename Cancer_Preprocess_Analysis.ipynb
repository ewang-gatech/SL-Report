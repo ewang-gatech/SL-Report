{
 "cells": [
  {
   "cell_type": "code",
   "execution_count": 2,
   "id": "229062e7-e2ff-4688-8027-aa8f2008c347",
   "metadata": {},
   "outputs": [
    {
     "name": "stdout",
     "output_type": "stream",
     "text": [
      "\n",
      "🔗 Highly Correlated Feature Pairs (|r| > 0.8):\n",
      "None found.\n"
     ]
    }
   ],
   "source": [
    "import pandas as pd\n",
    "import numpy as np\n",
    "import matplotlib.pyplot as plt\n",
    "from sklearn.preprocessing import LabelEncoder\n",
    "\n",
    "\n",
    "# ----- Load your data -----\n",
    "df = pd.read_csv('global_cancer_patients_2015_2024.csv')\n",
    "\n",
    "# Normalize year\n",
    "df['Year'] = 2025 - df['Year']\n",
    "\n",
    "# Encode the combined labels\n",
    "label_encoder = LabelEncoder()\n",
    "df['Cancer_Stage_Int'] = label_encoder.fit_transform(df['Cancer_Stage'])\n",
    "\n",
    "# Save mapping\n",
    "label_mapping = dict(zip(label_encoder.classes_, range(len(label_encoder.classes_))))\n",
    "\n",
    "# One-hot encode categorical features\n",
    "categorical_cols = ['Gender','Cancer_Type']\n",
    "X = pd.get_dummies(df, columns=categorical_cols)\n",
    "\n",
    "# Drop original target columns\n",
    "Y = X['Country_Region']\n",
    "X = X.drop(['Patient_ID', 'Country_Region', 'Cancer_Stage'], axis=1)  # drop ID and target\n",
    "\n",
    "\n",
    "# ----- Select numeric columns only -----\n",
    "numeric_df = df.select_dtypes(include=[np.number])\n",
    "\n",
    "# ========================================\n",
    "# 🔹 1. Filtered Correlation Report\n",
    "# ========================================\n",
    "def find_high_correlations(data, threshold=0.8):\n",
    "    corr_matrix = data.corr().abs()\n",
    "    upper = corr_matrix.where(np.triu(np.ones(corr_matrix.shape), k=1).astype(bool))\n",
    "    \n",
    "    high_corr_pairs = (\n",
    "        upper.stack()\n",
    "        .reset_index()\n",
    "        .rename(columns={0: 'correlation', 'level_0': 'feature_1', 'level_1': 'feature_2'})\n",
    "    )\n",
    "    \n",
    "    return high_corr_pairs[high_corr_pairs['correlation'] > threshold].sort_values(by='correlation', ascending=False)\n",
    "\n",
    "high_corrs = find_high_correlations(numeric_df, threshold=0.8)\n",
    "\n",
    "print(\"\\n🔗 Highly Correlated Feature Pairs (|r| > 0.8):\")\n",
    "print(high_corrs if not high_corrs.empty else \"None found.\")\n",
    "\n",
    "\n"
   ]
  },
  {
   "cell_type": "code",
   "execution_count": 3,
   "id": "e9d0e07d-e734-4974-9c9e-52e8eaa5bf76",
   "metadata": {},
   "outputs": [
    {
     "name": "stdout",
     "output_type": "stream",
     "text": [
      "\n",
      "🚨 Percentage of Rows with Outliers (IQR Method):\n",
      "Target_Severity_Score_outlier_percentage    0.3 %\n",
      "dtype: object\n",
      "\n",
      "Found 151 rows (0.30%) with at least one outlier.\n"
     ]
    }
   ],
   "source": [
    "# ========================================\n",
    "# 🔹 2. IQR Outlier Detection (with % reporting)\n",
    "# ========================================\n",
    "def detect_outliers_iqr(data):\n",
    "    outlier_flags = pd.DataFrame(index=data.index)\n",
    "    \n",
    "    for col in data.columns:\n",
    "        Q1 = data[col].quantile(0.25)\n",
    "        Q3 = data[col].quantile(0.75)\n",
    "        IQR = Q3 - Q1\n",
    "        lower_bound = Q1 - 1.5 * IQR\n",
    "        upper_bound = Q3 + 1.5 * IQR\n",
    "        \n",
    "        is_outlier = (data[col] < lower_bound) | (data[col] > upper_bound)\n",
    "        outlier_flags[col + \"_outlier_percentage\"] = is_outlier\n",
    "    \n",
    "    outlier_percentages = outlier_flags.mean().sort_values(ascending=False) * 100\n",
    "    return outlier_flags, outlier_percentages\n",
    "\n",
    "outlier_flags, outlier_percentages = detect_outliers_iqr(numeric_df)\n",
    "\n",
    "print(\"\\n🚨 Percentage of Rows with Outliers (IQR Method):\")\n",
    "print(outlier_percentages[outlier_percentages > 0].round(2).astype(str) + \" %\")\n",
    "\n",
    "# Optional: Flag rows with any outlier\n",
    "numeric_df['any_outlier'] = outlier_flags.any(axis=1)\n",
    "\n",
    "# Optional: View rows with any outlier\n",
    "outlier_rows = df[numeric_df['any_outlier']]\n",
    "print(f\"\\nFound {len(outlier_rows)} rows ({(len(outlier_rows) / len(df)) * 100:.2f}%) with at least one outlier.\")"
   ]
  },
  {
   "cell_type": "code",
   "execution_count": 4,
   "id": "072ce3f2-2b56-4351-9b79-b77b1daf0dfe",
   "metadata": {},
   "outputs": [
    {
     "name": "stdout",
     "output_type": "stream",
     "text": [
      "\n",
      " Class Distribution\n",
      "Country_Region\n",
      "Australia    10.18 %\n",
      "USA          10.12 %\n",
      "UK           10.12 %\n",
      "India        10.08 %\n",
      "Germany      10.05 %\n",
      "Russia       10.03 %\n",
      "Brazil       10.01 %\n",
      "Pakistan      9.85 %\n",
      "China         9.82 %\n",
      "Canada        9.73 %\n",
      "Name: proportion, dtype: object\n"
     ]
    }
   ],
   "source": [
    "# ========================================\n",
    "# 🔹 3. Class Distribution\n",
    "# ========================================\n",
    "def display_class_distribution(data):\n",
    "    dist = data.value_counts(normalize=True).mul(100).round(2)\n",
    "    print(f\"\\n Class Distribution\")\n",
    "    print(dist.astype(str) + \" %\")\n",
    "\n",
    "# ----- Replace 'target' with your actual target column name -----\n",
    "display_class_distribution(Y)"
   ]
  },
  {
   "cell_type": "code",
   "execution_count": null,
   "id": "b513a26c-5b47-4931-8460-4f6c1fd04a3c",
   "metadata": {},
   "outputs": [],
   "source": []
  }
 ],
 "metadata": {
  "kernelspec": {
   "display_name": "Python 3 (ipykernel)",
   "language": "python",
   "name": "python3"
  },
  "language_info": {
   "codemirror_mode": {
    "name": "ipython",
    "version": 3
   },
   "file_extension": ".py",
   "mimetype": "text/x-python",
   "name": "python",
   "nbconvert_exporter": "python",
   "pygments_lexer": "ipython3",
   "version": "3.13.3"
  }
 },
 "nbformat": 4,
 "nbformat_minor": 5
}
